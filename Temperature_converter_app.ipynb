{
  "nbformat": 4,
  "nbformat_minor": 0,
  "metadata": {
    "colab": {
      "provenance": [],
      "authorship_tag": "ABX9TyPlt5FwGR/5e/es+JcRsS/S"
    },
    "kernelspec": {
      "name": "python3",
      "display_name": "Python 3"
    },
    "language_info": {
      "name": "python"
    }
  },
  "cells": [
    {
      "cell_type": "code",
      "execution_count": null,
      "metadata": {
        "id": "ShVLYG1wWc4M"
      },
      "outputs": [],
      "source": [
        "# Code:\n",
        "def temperature_converter():\n",
        "    # Prompt the user to select the input temperature type\n",
        "    while True:\n",
        "        temp_type_input = input(\"What is the temperature type you are providing? Choose 'celsius', 'fahrenheit', or 'kelvin': \").lower()\n",
        "\n",
        "        if temp_type_input in [\"celsius\", \"fahrenheit\", \"kelvin\"]:\n",
        "            break\n",
        "\n",
        "        # Dealing with invalid inputs\n",
        "        else:\n",
        "            print(\"Invalid input. Please enter 'celsius', 'fahrenheit', or 'kelvin'.\")\n",
        "\n",
        "    # Input validation for the temperature value\n",
        "    while True:\n",
        "        try:\n",
        "            number_input = float(input(f\"Please enter the temperature in {temp_type_input}: \"))\n",
        "            break\n",
        "        except ValueError:\n",
        "            print(\"Invalid input. Please enter a valid number.\")\n",
        "\n",
        "    # Prompt to convert to a different temperature scale\n",
        "    while True:\n",
        "        convert_to = input(\"Convert to 'celsius', 'fahrenheit', or 'kelvin': \").lower()\n",
        "\n",
        "        # Ensure the user doesn't choose the same type of conversion\n",
        "        if convert_to == temp_type_input:\n",
        "            print(f\"You're trying to convert {temp_type_input} to {temp_type_input}. Please choose a different unit.\")\n",
        "            continue\n",
        "\n",
        "        # The process of calculation\n",
        "        if convert_to in [\"celsius\", \"fahrenheit\", \"kelvin\"]:\n",
        "            if temp_type_input == \"celsius\":\n",
        "                if convert_to == \"fahrenheit\":\n",
        "                    result = number_input * 1.8 + 32\n",
        "                    print(f\"{result:.2f}\\u00B0F\")\n",
        "                elif convert_to == \"kelvin\":\n",
        "                    result = number_input + 273.15\n",
        "                    print(f\"{result:.2f} K\")\n",
        "\n",
        "            elif temp_type_input == \"fahrenheit\":\n",
        "                if convert_to == \"celsius\":\n",
        "                    result = (number_input - 32) / 1.8\n",
        "                    print(f\"{result:.2f}\\u00B0C\")\n",
        "                elif convert_to == \"kelvin\":\n",
        "                    result = (number_input - 32) / 1.8 + 273.15\n",
        "                    print(f\"{result:.2f} K\")\n",
        "\n",
        "            elif temp_type_input == \"kelvin\":\n",
        "                if convert_to == \"celsius\":\n",
        "                    result = number_input - 273.15\n",
        "                    print(f\"{result:.2f}\\u00B0C\")\n",
        "                elif convert_to == \"fahrenheit\":\n",
        "                    result = (number_input - 273.15) * 1.8 + 32\n",
        "                    print(f\"{result:.2f}\\u00B0F\")\n",
        "\n",
        "            return result\n",
        "\n",
        "        # Dealing with invalid inputs\n",
        "        else:\n",
        "            print(\"Invalid input. Please enter 'celsius', 'fahrenheit', or 'kelvin'.\")\n",
        "\n",
        "# Execution:\n",
        "print(temperature_converter())"
      ]
    }
  ]
}